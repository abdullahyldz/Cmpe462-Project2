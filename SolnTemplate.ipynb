{
 "cells": [
  {
   "cell_type": "markdown",
   "metadata": {},
   "source": [
    "<h1><center>CMPE 462 - Project 2<br>Implementing an SVM Classifier<br>Due: May 18, 2020, 23:59</center></h1>"
   ]
  },
  {
   "cell_type": "markdown",
   "metadata": {},
   "source": [
    "* **Student ID1:**\n",
    "* **Student ID2:**\n",
    "* **Student ID3:**"
   ]
  },
  {
   "cell_type": "markdown",
   "metadata": {},
   "source": [
    "## Overview\n",
    "\n",
    "In this project, you are going to implement SVM. For this purpose, a data set (data.mat) is given to you. You can load the mat dataset into Python using the function `loadmat` in `Scipy.io`. When you load the data, you will obtain a dictionary object, where `X` stores the data matrix and `Y` stores the labels. You can use the first 150 samples for training and the rest for testing. In this project, you will use the software package [`LIBSVM`](http://www.csie.ntu.edu.tw/~cjlin/libsvm/) to implement SVM. Note that `LIBSVM` has a [`Python interface`](https://github.com/cjlin1/libsvm/tree/master/python), so you can call the SVM functions in Python. "
   ]
  },
  {
   "cell_type": "code",
   "execution_count": 1,
   "metadata": {},
   "outputs": [],
   "source": [
    "import scipy.io as spio\n",
    "from libsvm.svmutil import *\n",
    "import numpy as np\n",
    "from prettytable import PrettyTable\n",
    "dic = spio.loadmat(\"data.mat\")\n",
    "\n",
    "train_matrix, train_labels = dic['X'][:150], dic['Y'][:150]\n",
    "test_matrix, test_labels = dic['X'][150:], dic['Y'][150:]\n",
    "\n",
    "train_labels = train_labels.reshape((train_labels.shape[0],))\n",
    "test_labels = test_labels.reshape((test_labels.shape[0],))"
   ]
  },
  {
   "cell_type": "markdown",
   "metadata": {},
   "source": [
    "## Task 1 - 30 pts\n",
    "\n",
    "Train a hard margin linear SVM and report both train and test classification accuracy."
   ]
  },
  {
   "cell_type": "code",
   "execution_count": 2,
   "metadata": {},
   "outputs": [],
   "source": [
    "def svm_function(params):\n",
    "    global train_labels, train_matrix, test_labels, test_matrix\n",
    "    m = svm_train(train_labels, train_matrix, params)\n",
    "    \n",
    "    result = []\n",
    "    p_label, p_acc, p_val = svm_predict(train_labels, train_matrix, m, '-q')\n",
    "    result.append(str(round(p_acc[0], 4)))\n",
    "    \n",
    "    p_label, p_acc, p_val = svm_predict(test_labels, test_matrix, m, '-q')\n",
    "    result.append(str(round(p_acc[0], 4)))\n",
    "    return result"
   ]
  },
  {
   "cell_type": "code",
   "execution_count": 3,
   "metadata": {},
   "outputs": [
    {
     "name": "stdout",
     "output_type": "stream",
     "text": [
      "Hard Margin SVM\n",
      "Train classification accuracy: 74.6667\n",
      "Test classification accuracy: 77.5\n"
     ]
    }
   ],
   "source": [
    "res = svm_function('-t 0 -c 100000000')\n",
    "print('Hard Margin SVM')\n",
    "print('Train classification accuracy: ' + res[0])\n",
    "print('Test classification accuracy: ' + res[1])"
   ]
  },
  {
   "cell_type": "markdown",
   "metadata": {},
   "source": [
    "## Task 2 - 40 pts\n",
    "\n",
    "Train soft margin SVM for different values of the parameter $C$, and with different kernel functions. Systematically report your results. For instance, report the performances of different kernels for a fixed $C$, then report the performance for different $C$ values for a fixed kernel, and so on."
   ]
  },
  {
   "cell_type": "markdown",
   "metadata": {},
   "source": [
    "## Fixed Kernel, Different C-values"
   ]
  },
  {
   "cell_type": "code",
   "execution_count": 4,
   "metadata": {},
   "outputs": [
    {
     "name": "stdout",
     "output_type": "stream",
     "text": [
      "+-------------------------------------------------------------+\n",
      "|     Kernel: Radial basis function -> exp(-gamma*|u-v|^2)    |\n",
      "+-----------------+----------+----------+----------+----------+\n",
      "|     C Value     |   0.1    |    1     |    10    |   100    |\n",
      "+-----------------+----------+----------+----------+----------+\n",
      "|  Train Accuracy |   84.0   | 86.6667  |   96.0   | 99.3333  |\n",
      "|  Test Accuracy  | 84.1667  | 84.1667  | 78.3333  | 78.3333  |\n",
      "+-----------------+----------+----------+----------+----------+\n"
     ]
    }
   ],
   "source": [
    "# Radial basis function: exp(-gamma*|u-v|^2)\n",
    "c_v = [0.1, 1, 10, 100]\n",
    "results = []\n",
    "\n",
    "for c in c_v:\n",
    "    results.append(svm_function(f'-t 2 -g 0.1 -c {c}'))\n",
    "\n",
    "table = PrettyTable()\n",
    "table.title = 'Kernel: Radial basis function -> exp(-gamma*|u-v|^2)'\n",
    "table.field_names = [\"C Value\"]+[str(c) for c in c_v]\n",
    "table.add_row([\"Train Accuracy\"] +[res[0] for res in results])\n",
    "table.add_row([\"Test Accuracy\"]+[res[1] for res in results])\n",
    "print(table)"
   ]
  },
  {
   "cell_type": "code",
   "execution_count": 5,
   "metadata": {},
   "outputs": [
    {
     "name": "stdout",
     "output_type": "stream",
     "text": [
      "+--------------------------------------------------------+\n",
      "|           Kernel: Polynomial: (gamma*u'*v)^2           |\n",
      "+----------------+---------+---------+---------+---------+\n",
      "|    C Value     |   0.1   |    1    |    10   |   100   |\n",
      "+----------------+---------+---------+---------+---------+\n",
      "| Train Accuracy |   94.0  | 97.3333 | 99.3333 |  100.0  |\n",
      "| Test Accuracy  | 78.3333 |   77.5  |   72.5  | 69.1667 |\n",
      "+----------------+---------+---------+---------+---------+\n"
     ]
    }
   ],
   "source": [
    "# Kernel: Polynomial: (gamma*u\\'*v)^2\n",
    "\n",
    "c_v = [0.1, 1, 10, 100]\n",
    "results = []\n",
    "\n",
    "for c in c_v:\n",
    "    results.append(svm_function(f'-t 1 -g 1 -r 0 -d 2 -c {c}'))\n",
    "\n",
    "table = PrettyTable()\n",
    "table.title ='Kernel: Polynomial: (gamma*u\\'*v)^2'\n",
    "\n",
    "table.field_names = [\"C Value\"]+[str(c) for c in c_v]\n",
    "table.add_row([\"Train Accuracy\"] +[res[0] for res in results])\n",
    "table.add_row([\"Test Accuracy\"]+[res[1] for res in results])\n",
    "print(table)"
   ]
  },
  {
   "cell_type": "code",
   "execution_count": 6,
   "metadata": {},
   "outputs": [
    {
     "name": "stdout",
     "output_type": "stream",
     "text": [
      "+--------------------------------------------------------+\n",
      "|            Kernel: Sigmoid tanh(gamma*u'*v)            |\n",
      "+----------------+---------+---------+---------+---------+\n",
      "|    C Value     |   0.1   |    1    |    10   |   100   |\n",
      "+----------------+---------+---------+---------+---------+\n",
      "| Train Accuracy | 73.3333 |   66.0  | 64.6667 |   64.0  |\n",
      "| Test Accuracy  | 76.6667 | 65.8333 | 64.1667 | 64.1667 |\n",
      "+----------------+---------+---------+---------+---------+\n"
     ]
    }
   ],
   "source": [
    "# Kernel: Sigmoid tanh(gamma*u\\'*v)\n",
    "\n",
    "c_v = [0.1, 1, 10, 100]\n",
    "results = []\n",
    "\n",
    "for c in c_v:\n",
    "    results.append(svm_function(f'-t 3 -g 1 -r 0 -c {c}'))\n",
    "\n",
    "table = PrettyTable()\n",
    "table.title ='Kernel: Sigmoid tanh(gamma*u\\'*v)'\n",
    "\n",
    "table.field_names = [\"C Value\"]+[str(c) for c in c_v]\n",
    "table.add_row([\"Train Accuracy\"] +[res[0] for res in results])\n",
    "table.add_row([\"Test Accuracy\"]+[res[1] for res in results])\n",
    "print(table)"
   ]
  },
  {
   "cell_type": "code",
   "execution_count": 7,
   "metadata": {},
   "outputs": [
    {
     "name": "stdout",
     "output_type": "stream",
     "text": [
      "+--------------------------------------------------------+\n",
      "|                  Kernel: Linear: u'*v                  |\n",
      "+----------------+---------+---------+---------+---------+\n",
      "|    C Value     |   0.1   |    1    |    10   |   100   |\n",
      "+----------------+---------+---------+---------+---------+\n",
      "| Train Accuracy |   86.0  | 86.6667 | 88.6667 | 88.6667 |\n",
      "| Test Accuracy  | 83.3333 |   85.0  | 81.6667 | 81.6667 |\n",
      "+----------------+---------+---------+---------+---------+\n"
     ]
    }
   ],
   "source": [
    "# Kernel: Linear: u\\'*v\n",
    "\n",
    "c_v = [0.1, 1, 10, 100]\n",
    "results = []\n",
    "\n",
    "for c in c_v:\n",
    "    results.append(svm_function(f'-t 0 -c {c}'))\n",
    "\n",
    "table = PrettyTable()\n",
    "table.title ='Kernel: Linear: u\\'*v'\n",
    "\n",
    "table.field_names = [\"C Value\"]+[str(c) for c in c_v]\n",
    "table.add_row([\"Train Accuracy\"] +[res[0] for res in results])\n",
    "table.add_row([\"Test Accuracy\"]+[res[1] for res in results])\n",
    "print(table)"
   ]
  },
  {
   "cell_type": "code",
   "execution_count": 8,
   "metadata": {},
   "outputs": [
    {
     "name": "stdout",
     "output_type": "stream",
     "text": [
      "+--------------------------------------------------------+\n",
      "|              Kernel: Polynomial: (u'v)^3               |\n",
      "+----------------+---------+---------+---------+---------+\n",
      "|    C Value     |   0.1   |    1    |    10   |   100   |\n",
      "+----------------+---------+---------+---------+---------+\n",
      "| Train Accuracy | 99.3333 |  100.0  |  100.0  |  100.0  |\n",
      "| Test Accuracy  | 74.1667 | 75.8333 | 75.8333 | 75.8333 |\n",
      "+----------------+---------+---------+---------+---------+\n"
     ]
    }
   ],
   "source": [
    "# Kernel: Polynomial: (u\\'v)^3\n",
    "\n",
    "\n",
    "c_v = [0.1, 1, 10, 100]\n",
    "results = []\n",
    "\n",
    "for c in c_v:\n",
    "    results.append(svm_function(f'-t 1 -g 1 -r 0 -d 3 -c {c}'))\n",
    "\n",
    "table = PrettyTable()\n",
    "table.title ='Kernel: Polynomial: (u\\'v)^3'\n",
    "\n",
    "table.field_names = [\"C Value\"]+[str(c) for c in c_v]\n",
    "table.add_row([\"Train Accuracy\"] +[res[0] for res in results])\n",
    "table.add_row([\"Test Accuracy\"]+[res[1] for res in results])\n",
    "print(table)"
   ]
  },
  {
   "cell_type": "markdown",
   "metadata": {},
   "source": [
    "## Fixed C, different kernels"
   ]
  },
  {
   "cell_type": "code",
   "execution_count": 9,
   "metadata": {},
   "outputs": [
    {
     "name": "stdout",
     "output_type": "stream",
     "text": [
      "+--------------------------------------------------------------------------------------+\n",
      "|                                    Fixed C = 0.1                                     |\n",
      "+----------------+-------------------+-------------------+---------+---------+---------+\n",
      "|    C Value     | polynomial(U'V^3) | polynomial(U'V^2) |  linear | sigmoid |   RBF   |\n",
      "+----------------+-------------------+-------------------+---------+---------+---------+\n",
      "| Train Accuracy |      99.3333      |        94.0       |   86.0  | 73.3333 |   84.0  |\n",
      "| Test Accuracy  |      74.1667      |      78.3333      | 83.3333 | 76.6667 | 84.1667 |\n",
      "+----------------+-------------------+-------------------+---------+---------+---------+\n"
     ]
    }
   ],
   "source": [
    "kernels = ['-t 1 -g 1 -r 0 -d 3 ', '-t 1 -g 1 -r 0 -d 2 ', '-t 0 ', '-t 3 -g 1 -r 0 ', '-t 2 -g 0.1 '] \n",
    "kernel_names = ['polynomial(U\\'V^3)', 'polynomial(U\\'V^2)', 'linear', 'sigmoid', 'RBF']\n",
    "results = []\n",
    "\n",
    "for kernel in kernels:\n",
    "    results.append(svm_function(f'{kernel}-c 0.1'))\n",
    "\n",
    "table = PrettyTable()\n",
    "table.title ='Fixed C = 0.1'\n",
    "\n",
    "table.field_names = [\"C Value\"]+[kernel_name for kernel_name in kernel_names]\n",
    "table.add_row([\"Train Accuracy\"] +[res[0] for res in results])\n",
    "table.add_row([\"Test Accuracy\"]+[res[1] for res in results])\n",
    "print(table)"
   ]
  },
  {
   "cell_type": "code",
   "execution_count": 10,
   "metadata": {},
   "outputs": [
    {
     "name": "stdout",
     "output_type": "stream",
     "text": [
      "+--------------------------------------------------------------------------------------+\n",
      "|                                     Fixed C = 1                                      |\n",
      "+----------------+-------------------+-------------------+---------+---------+---------+\n",
      "|    C Value     | polynomial(U'V^3) | polynomial(U'V^2) |  linear | sigmoid |   RBF   |\n",
      "+----------------+-------------------+-------------------+---------+---------+---------+\n",
      "| Train Accuracy |       100.0       |      97.3333      | 86.6667 |   66.0  | 86.6667 |\n",
      "| Test Accuracy  |      75.8333      |        77.5       |   85.0  | 65.8333 | 84.1667 |\n",
      "+----------------+-------------------+-------------------+---------+---------+---------+\n"
     ]
    }
   ],
   "source": [
    "kernels = ['-t 1 -g 1 -r 0 -d 3 ', '-t 1 -g 1 -r 0 -d 2 ', '-t 0 ', '-t 3 -g 1 -r 0 ', '-t 2 -g 0.1 '] \n",
    "kernel_names = ['polynomial(U\\'V^3)', 'polynomial(U\\'V^2)', 'linear', 'sigmoid', 'RBF']\n",
    "results = []\n",
    "\n",
    "for kernel in kernels:\n",
    "    results.append(svm_function(f'{kernel}-c 1'))\n",
    "\n",
    "table = PrettyTable()\n",
    "table.title ='Fixed C = 1'\n",
    "\n",
    "table.field_names = [\"C Value\"]+[kernel_name for kernel_name in kernel_names]\n",
    "table.add_row([\"Train Accuracy\"] +[res[0] for res in results])\n",
    "table.add_row([\"Test Accuracy\"]+[res[1] for res in results])\n",
    "print(table)"
   ]
  },
  {
   "cell_type": "code",
   "execution_count": 11,
   "metadata": {},
   "outputs": [
    {
     "name": "stdout",
     "output_type": "stream",
     "text": [
      "+--------------------------------------------------------------------------------------+\n",
      "|                                     Fixed C = 5                                      |\n",
      "+----------------+-------------------+-------------------+---------+---------+---------+\n",
      "|    C Value     | polynomial(U'V^3) | polynomial(U'V^2) |  linear | sigmoid |   RBF   |\n",
      "+----------------+-------------------+-------------------+---------+---------+---------+\n",
      "| Train Accuracy |       100.0       |      98.6667      | 88.6667 | 65.3333 | 93.3333 |\n",
      "| Test Accuracy  |      75.8333      |        72.5       | 81.6667 | 64.1667 | 79.1667 |\n",
      "+----------------+-------------------+-------------------+---------+---------+---------+\n"
     ]
    }
   ],
   "source": [
    "kernels = ['-t 1 -g 1 -r 0 -d 3 ', '-t 1 -g 1 -r 0 -d 2 ', '-t 0 ', '-t 3 -g 1 -r 0 ', '-t 2 -g 0.1 '] \n",
    "kernel_names = ['polynomial(U\\'V^3)', 'polynomial(U\\'V^2)', 'linear', 'sigmoid', 'RBF']\n",
    "results = []\n",
    "\n",
    "for kernel in kernels:\n",
    "    results.append(svm_function(f'{kernel}-c 5'))\n",
    "\n",
    "table = PrettyTable()\n",
    "table.title ='Fixed C = 5'\n",
    "\n",
    "table.field_names = [\"C Value\"]+[kernel_name for kernel_name in kernel_names]\n",
    "table.add_row([\"Train Accuracy\"] +[res[0] for res in results])\n",
    "table.add_row([\"Test Accuracy\"]+[res[1] for res in results])\n",
    "print(table)"
   ]
  },
  {
   "cell_type": "code",
   "execution_count": 12,
   "metadata": {},
   "outputs": [
    {
     "name": "stdout",
     "output_type": "stream",
     "text": [
      "+--------------------------------------------------------------------------------------+\n",
      "|                                     Fixed C = 10                                     |\n",
      "+----------------+-------------------+-------------------+---------+---------+---------+\n",
      "|    C Value     | polynomial(U'V^3) | polynomial(U'V^2) |  linear | sigmoid |   RBF   |\n",
      "+----------------+-------------------+-------------------+---------+---------+---------+\n",
      "| Train Accuracy |       100.0       |      99.3333      | 88.6667 | 64.6667 |   96.0  |\n",
      "| Test Accuracy  |      75.8333      |        72.5       | 81.6667 | 64.1667 | 78.3333 |\n",
      "+----------------+-------------------+-------------------+---------+---------+---------+\n"
     ]
    }
   ],
   "source": [
    "kernels = ['-t 1 -g 1 -r 0 -d 3 ', '-t 1 -g 1 -r 0 -d 2 ', '-t 0 ', '-t 3 -g 1 -r 0 ', '-t 2 -g 0.1 '] \n",
    "kernel_names = ['polynomial(U\\'V^3)', 'polynomial(U\\'V^2)', 'linear', 'sigmoid', 'RBF']\n",
    "results = []\n",
    "\n",
    "for kernel in kernels:\n",
    "    results.append(svm_function(f'{kernel}-c 10'))\n",
    "\n",
    "table = PrettyTable()\n",
    "table.title ='Fixed C = 10'\n",
    "\n",
    "table.field_names = [\"C Value\"]+[kernel_name for kernel_name in kernel_names]\n",
    "table.add_row([\"Train Accuracy\"] +[res[0] for res in results])\n",
    "table.add_row([\"Test Accuracy\"]+[res[1] for res in results])\n",
    "print(table)"
   ]
  },
  {
   "cell_type": "code",
   "execution_count": 13,
   "metadata": {},
   "outputs": [
    {
     "name": "stdout",
     "output_type": "stream",
     "text": [
      "+--------------------------------------------------------------------------------------+\n",
      "|                                    Fixed C = 100                                     |\n",
      "+----------------+-------------------+-------------------+---------+---------+---------+\n",
      "|    C Value     | polynomial(U'V^3) | polynomial(U'V^2) |  linear | sigmoid |   RBF   |\n",
      "+----------------+-------------------+-------------------+---------+---------+---------+\n",
      "| Train Accuracy |       100.0       |       100.0       | 88.6667 |   64.0  | 99.3333 |\n",
      "| Test Accuracy  |      75.8333      |      69.1667      | 81.6667 | 64.1667 | 78.3333 |\n",
      "+----------------+-------------------+-------------------+---------+---------+---------+\n"
     ]
    }
   ],
   "source": [
    "kernels = ['-t 1 -g 1 -r 0 -d 3 ', '-t 1 -g 1 -r 0 -d 2 ', '-t 0 ', '-t 3 -g 1 -r 0 ', '-t 2 -g 0.1 '] \n",
    "kernel_names = ['polynomial(U\\'V^3)', 'polynomial(U\\'V^2)', 'linear', 'sigmoid', 'RBF']\n",
    "results = []\n",
    "\n",
    "for kernel in kernels:\n",
    "    results.append(svm_function(f'{kernel}-c 100'))\n",
    "\n",
    "table = PrettyTable()\n",
    "table.title ='Fixed C = 100'\n",
    "\n",
    "table.field_names = [\"C Value\"]+[kernel_name for kernel_name in kernel_names]\n",
    "table.add_row([\"Train Accuracy\"] +[res[0] for res in results])\n",
    "table.add_row([\"Test Accuracy\"]+[res[1] for res in results])\n",
    "print(table)"
   ]
  },
  {
   "cell_type": "code",
   "execution_count": 14,
   "metadata": {},
   "outputs": [
    {
     "name": "stdout",
     "output_type": "stream",
     "text": [
      "+--------------------------------------------------------------------------------------+\n",
      "|                                    Fixed C = 1000                                    |\n",
      "+----------------+-------------------+-------------------+---------+---------+---------+\n",
      "|    C Value     | polynomial(U'V^3) | polynomial(U'V^2) |  linear | sigmoid |   RBF   |\n",
      "+----------------+-------------------+-------------------+---------+---------+---------+\n",
      "| Train Accuracy |       100.0       |       100.0       |   90.0  |   64.0  |  100.0  |\n",
      "| Test Accuracy  |      75.8333      |      69.1667      | 81.6667 | 64.1667 | 76.6667 |\n",
      "+----------------+-------------------+-------------------+---------+---------+---------+\n"
     ]
    }
   ],
   "source": [
    "kernels = ['-t 1 -g 1 -r 0 -d 3 ', '-t 1 -g 1 -r 0 -d 2 ', '-t 0 ', '-t 3 -g 1 -r 0 ', '-t 2 -g 0.1 '] \n",
    "kernel_names = ['polynomial(U\\'V^3)', 'polynomial(U\\'V^2)', 'linear', 'sigmoid', 'RBF']\n",
    "results = []\n",
    "\n",
    "for kernel in kernels:\n",
    "    results.append(svm_function(f'{kernel}-c 1000'))\n",
    "\n",
    "table = PrettyTable()\n",
    "table.title ='Fixed C = 1000'\n",
    "\n",
    "table.field_names = [\"C Value\"]+[kernel_name for kernel_name in kernel_names]\n",
    "table.add_row([\"Train Accuracy\"] +[res[0] for res in results])\n",
    "table.add_row([\"Test Accuracy\"]+[res[1] for res in results])\n",
    "print(table)"
   ]
  },
  {
   "cell_type": "markdown",
   "metadata": {},
   "source": [
    "## Task 3 - 15 pts\n",
    "\n",
    "Please report how the number of support vectors changes as the value of $C$ increases (while all other parameters remain the same). Discuss whether your observations match the theory."
   ]
  },
  {
   "cell_type": "code",
   "execution_count": 15,
   "metadata": {},
   "outputs": [],
   "source": [
    "def get_number_of_sv(params):\n",
    "    global train_labels, train_matrix\n",
    "    m = svm_train(train_labels, train_matrix, params)\n",
    "    return m.get_nr_sv()"
   ]
  },
  {
   "cell_type": "code",
   "execution_count": 16,
   "metadata": {},
   "outputs": [
    {
     "name": "stdout",
     "output_type": "stream",
     "text": [
      "+--------------------------------------------------------------+\n",
      "|     Kernel: Radial basis function -> exp(-gamma*|u-v|^2)     |\n",
      "+---------------------------+-----+----+-----+-------+---------+\n",
      "|          C Value          | 0.1 | 1  | 100 | 10000 | 1000000 |\n",
      "+---------------------------+-----+----+-----+-------+---------+\n",
      "| Number of Support Vectors | 131 | 87 |  70 |   67  |    67   |\n",
      "+---------------------------+-----+----+-----+-------+---------+\n"
     ]
    }
   ],
   "source": [
    "c_values = [0.1, 1, 100, 10000, 1000000]\n",
    "num_sv = []\n",
    "for c in c_values:\n",
    "    num_sv.append(get_number_of_sv(f'-t 2 -g 0.1 -c {c}'))\n",
    "    \n",
    "table = PrettyTable()\n",
    "\n",
    "table.title ='Kernel: Radial basis function -> exp(-gamma*|u-v|^2)'\n",
    "\n",
    "table.field_names = [\"C Value\"]+[str(c) for c in c_values]\n",
    "table.add_row([\"Number of Support Vectors\"]+num_sv)\n",
    "print(table)"
   ]
  },
  {
   "cell_type": "markdown",
   "metadata": {},
   "source": [
    "## Task 4 - 15 pts\n",
    "\n",
    "Please investigate the changes in the hyperplane when you remove one of the support vectors, vs., one data point that is not a support vector."
   ]
  },
  {
   "cell_type": "markdown",
   "metadata": {},
   "source": [
    "### Bonus Task - 10 pts\n",
    "\n",
    "Use Python and [CVXOPT](http://cvxopt.org) QP solver to implement the hard margin SVM. "
   ]
  }
 ],
 "metadata": {
  "kernelspec": {
   "display_name": "Python 3",
   "language": "python",
   "name": "python3"
  },
  "language_info": {
   "codemirror_mode": {
    "name": "ipython",
    "version": 3
   },
   "file_extension": ".py",
   "mimetype": "text/x-python",
   "name": "python",
   "nbconvert_exporter": "python",
   "pygments_lexer": "ipython3",
   "version": "3.7.1"
  }
 },
 "nbformat": 4,
 "nbformat_minor": 4
}
