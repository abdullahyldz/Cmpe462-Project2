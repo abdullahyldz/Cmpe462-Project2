{
 "cells": [
  {
   "cell_type": "markdown",
   "metadata": {},
   "source": [
    "<h1><center>CMPE 462 - Project 2<br>Implementing an SVM Classifier<br>Due: May 18, 2020, 23:59</center></h1>"
   ]
  },
  {
   "cell_type": "markdown",
   "metadata": {},
   "source": [
    "* **Student ID1:**\n",
    "* **Student ID2:**\n",
    "* **Student ID3:**"
   ]
  },
  {
   "cell_type": "markdown",
   "metadata": {},
   "source": [
    "## Overview\n",
    "\n",
    "In this project, you are going to implement SVM. For this purpose, a data set (data.mat) is given to you. You can load the mat dataset into Python using the function `loadmat` in `Scipy.io`. When you load the data, you will obtain a dictionary object, where `X` stores the data matrix and `Y` stores the labels. You can use the first 150 samples for training and the rest for testing. In this project, you will use the software package [`LIBSVM`](http://www.csie.ntu.edu.tw/~cjlin/libsvm/) to implement SVM. Note that `LIBSVM` has a [`Python interface`](https://github.com/cjlin1/libsvm/tree/master/python), so you can call the SVM functions in Python. "
   ]
  },
  {
   "cell_type": "code",
   "execution_count": 1,
   "metadata": {},
   "outputs": [
    {
     "name": "stdout",
     "output_type": "stream",
     "text": [
      "Collecting libsvm\n",
      "Installing collected packages: libsvm\n",
      "Successfully installed libsvm-3.23.0.4\n",
      "Collecting PTable\n",
      "Installing collected packages: PTable\n",
      "Successfully installed PTable-0.9.2\n"
     ]
    }
   ],
   "source": [
    "!pip3 install libsvm\n",
    "!pip3 install PTable"
   ]
  },
  {
   "cell_type": "code",
   "execution_count": 2,
   "metadata": {},
   "outputs": [],
   "source": [
    "import scipy.io as spio\n",
    "from libsvm.svmutil import *\n",
    "from libsvm.svm import *\n",
    "import numpy as np\n",
    "from prettytable import PrettyTable\n",
    "\n",
    "dic = spio.loadmat(\"data.mat\")\n",
    "\n",
    "train_matrix, train_labels = dic['X'][:150], dic['Y'][:150]\n",
    "test_matrix, test_labels = dic['X'][150:], dic['Y'][150:]\n",
    "\n",
    "train_labels = train_labels.reshape((train_labels.shape[0],))\n",
    "test_labels = test_labels.reshape((test_labels.shape[0],))"
   ]
  },
  {
   "cell_type": "markdown",
   "metadata": {},
   "source": [
    "## Task 1 - 30 pts\n",
    "\n",
    "Train a hard margin linear SVM and report both train and test classification accuracy."
   ]
  },
  {
   "cell_type": "code",
   "execution_count": 3,
   "metadata": {},
   "outputs": [],
   "source": [
    "def svm_function(params):\n",
    "    global train_labels, train_matrix, test_labels, test_matrix\n",
    "    m = svm_train(train_labels, train_matrix, params)\n",
    "    \n",
    "    result = []\n",
    "    p_label, p_acc, p_val = svm_predict(train_labels, train_matrix, m, '-q')\n",
    "    result.append(str(round(p_acc[0], 4)))\n",
    "    \n",
    "    p_label, p_acc, p_val = svm_predict(test_labels, test_matrix, m, '-q')\n",
    "    result.append(str(round(p_acc[0], 4)))\n",
    "    return result"
   ]
  },
  {
   "cell_type": "code",
   "execution_count": 4,
   "metadata": {},
   "outputs": [
    {
     "name": "stdout",
     "output_type": "stream",
     "text": [
      "Hard Margin SVM\n",
      "Train classification accuracy: 74.6667\n",
      "Test classification accuracy: 77.5\n"
     ]
    }
   ],
   "source": [
    "res = svm_function('-t 0 -c 100000000')\n",
    "print('Hard Margin SVM')\n",
    "print('Train classification accuracy: ' + res[0])\n",
    "print('Test classification accuracy: ' + res[1])"
   ]
  },
  {
   "cell_type": "markdown",
   "metadata": {},
   "source": [
    "## Task 2 - 40 pts\n",
    "\n",
    "Train soft margin SVM for different values of the parameter $C$, and with different kernel functions. Systematically report your results. For instance, report the performances of different kernels for a fixed $C$, then report the performance for different $C$ values for a fixed kernel, and so on."
   ]
  },
  {
   "cell_type": "markdown",
   "metadata": {},
   "source": [
    "## Fixed Kernel, Different C-values"
   ]
  },
  {
   "cell_type": "code",
   "execution_count": 41,
   "metadata": {},
   "outputs": [
    {
     "name": "stdout",
     "output_type": "stream",
     "text": [
      "+------------------------------------------------------------------------------------------------+\n",
      "|                       Kernel -> Radial basis function : exp(-1*|u-v|^2)                        |\n",
      "+----------------+---------+---------+---------+---------+---------+---------+---------+---------+\n",
      "|    C Value     |  0.001  |   0.01  |   0.1   |    1    |    10   |   100   |   1000  |  10000  |\n",
      "+----------------+---------+---------+---------+---------+---------+---------+---------+---------+\n",
      "| Train Accuracy | 53.3333 | 53.3333 | 53.3333 |   98.0  |  100.0  |  100.0  |  100.0  |  100.0  |\n",
      "| Test Accuracy  | 58.3333 | 58.3333 | 58.3333 | 78.3333 | 73.3333 | 73.3333 | 73.3333 | 73.3333 |\n",
      "+----------------+---------+---------+---------+---------+---------+---------+---------+---------+\n"
     ]
    }
   ],
   "source": [
    "# Radial basis function: exp(-gamma*|u-v|^2)\n",
    "c_v = [0.001, 0.01, 0.1, 1, 10, 100, 1000, 10000]\n",
    "results = []\n",
    "\n",
    "for c in c_v:\n",
    "    results.append(svm_function(f'-t 2 -g 1 -c {c}'))\n",
    "\n",
    "table = PrettyTable()\n",
    "table.title = 'Kernel -> Radial basis function : exp(-1*|u-v|^2)'\n",
    "table.field_names = [\"C Value\"]+[str(c) for c in c_v]\n",
    "table.add_row([\"Train Accuracy\"] +[res[0] for res in results])\n",
    "table.add_row([\"Test Accuracy\"]+[res[1] for res in results])\n",
    "print(table)"
   ]
  },
  {
   "cell_type": "code",
   "execution_count": 42,
   "metadata": {},
   "outputs": [
    {
     "name": "stdout",
     "output_type": "stream",
     "text": [
      "+---------------------------------------------------------------------------------------------+\n",
      "|                                Kernel -> Polynomial: (u'*v)^2                               |\n",
      "+----------------+---------+------+---------+---------+---------+---------+---------+---------+\n",
      "|    C Value     |  0.001  | 0.01 |   0.1   |    1    |    10   |   100   |   1000  |  10000  |\n",
      "+----------------+---------+------+---------+---------+---------+---------+---------+---------+\n",
      "| Train Accuracy | 82.6667 | 86.0 |   94.0  | 97.3333 | 99.3333 |  100.0  |  100.0  |  100.0  |\n",
      "| Test Accuracy  | 83.3333 | 77.5 | 78.3333 |   77.5  |   72.5  | 69.1667 | 69.1667 | 69.1667 |\n",
      "+----------------+---------+------+---------+---------+---------+---------+---------+---------+\n"
     ]
    }
   ],
   "source": [
    "# Kernel: Polynomial: (gamma*u\\'*v)^2\n",
    "\n",
    "c_v = [0.001, 0.01, 0.1, 1, 10, 100, 1000, 10000]\n",
    "results = []\n",
    "\n",
    "for c in c_v:\n",
    "    results.append(svm_function(f'-t 1 -g 1 -r 0 -d 2 -c {c}'))\n",
    "\n",
    "table = PrettyTable()\n",
    "table.title ='Kernel -> Polynomial: (u\\'*v)^2'\n",
    "\n",
    "table.field_names = [\"C Value\"]+[str(c) for c in c_v]\n",
    "table.add_row([\"Train Accuracy\"] +[res[0] for res in results])\n",
    "table.add_row([\"Test Accuracy\"]+[res[1] for res in results])\n",
    "print(table)"
   ]
  },
  {
   "cell_type": "code",
   "execution_count": 43,
   "metadata": {},
   "outputs": [
    {
     "name": "stdout",
     "output_type": "stream",
     "text": [
      "+------------------------------------------------------------------------------------------------+\n",
      "|                                 Kernel -> Sigmoid: tanh(u'*v)                                  |\n",
      "+----------------+---------+---------+---------+---------+---------+---------+---------+---------+\n",
      "|    C Value     |  0.001  |   0.01  |   0.1   |    1    |    10   |   100   |   1000  |  10000  |\n",
      "+----------------+---------+---------+---------+---------+---------+---------+---------+---------+\n",
      "| Train Accuracy | 53.3333 | 59.3333 | 73.3333 |   66.0  | 64.6667 |   64.0  |   64.0  |   64.0  |\n",
      "| Test Accuracy  | 58.3333 | 65.8333 | 76.6667 | 65.8333 | 64.1667 | 64.1667 | 64.1667 | 64.1667 |\n",
      "+----------------+---------+---------+---------+---------+---------+---------+---------+---------+\n"
     ]
    }
   ],
   "source": [
    "# Kernel: Sigmoid tanh(gamma*u\\'*v)\n",
    "\n",
    "c_v = [0.001, 0.01, 0.1, 1, 10, 100, 1000, 10000]\n",
    "results = []\n",
    "\n",
    "for c in c_v:\n",
    "    results.append(svm_function(f'-t 3 -g 1 -r 0 -c {c}'))\n",
    "\n",
    "table = PrettyTable()\n",
    "table.title ='Kernel -> Sigmoid: tanh(u\\'*v)'\n",
    "\n",
    "table.field_names = [\"C Value\"]+[str(c) for c in c_v]\n",
    "table.add_row([\"Train Accuracy\"] +[res[0] for res in results])\n",
    "table.add_row([\"Test Accuracy\"]+[res[1] for res in results])\n",
    "print(table)"
   ]
  },
  {
   "cell_type": "code",
   "execution_count": 44,
   "metadata": {},
   "outputs": [
    {
     "name": "stdout",
     "output_type": "stream",
     "text": [
      "+------------------------------------------------------------------------------------------------+\n",
      "|                                     Kernel -> Linear: u'*v                                     |\n",
      "+----------------+---------+---------+---------+---------+---------+---------+---------+---------+\n",
      "|    C Value     |  0.001  |   0.01  |   0.1   |    1    |    10   |   100   |   1000  |  10000  |\n",
      "+----------------+---------+---------+---------+---------+---------+---------+---------+---------+\n",
      "| Train Accuracy | 53.3333 | 82.6667 |   86.0  | 86.6667 | 88.6667 | 88.6667 |   90.0  |   90.0  |\n",
      "| Test Accuracy  | 58.3333 | 84.1667 | 83.3333 |   85.0  | 81.6667 | 81.6667 | 81.6667 | 81.6667 |\n",
      "+----------------+---------+---------+---------+---------+---------+---------+---------+---------+\n"
     ]
    }
   ],
   "source": [
    "# Kernel: Linear: u\\'*v\n",
    "\n",
    "c_v = [0.001, 0.01, 0.1, 1, 10, 100, 1000, 10000]\n",
    "results = []\n",
    "\n",
    "for c in c_v:\n",
    "    results.append(svm_function(f'-t 0 -c {c}'))\n",
    "\n",
    "table = PrettyTable()\n",
    "table.title ='Kernel -> Linear: u\\'*v'\n",
    "\n",
    "table.field_names = [\"C Value\"]+[str(c) for c in c_v]\n",
    "table.add_row([\"Train Accuracy\"] +[res[0] for res in results])\n",
    "table.add_row([\"Test Accuracy\"]+[res[1] for res in results])\n",
    "print(table)"
   ]
  },
  {
   "cell_type": "code",
   "execution_count": 45,
   "metadata": {},
   "outputs": [
    {
     "name": "stdout",
     "output_type": "stream",
     "text": [
      "+------------------------------------------------------------------------------------------------+\n",
      "|                                 Kernel: Polynomial -> (u'*v)^3                                 |\n",
      "+----------------+---------+---------+---------+---------+---------+---------+---------+---------+\n",
      "|    C Value     |  0.001  |   0.01  |   0.1   |    1    |    10   |   100   |   1000  |  10000  |\n",
      "+----------------+---------+---------+---------+---------+---------+---------+---------+---------+\n",
      "| Train Accuracy | 88.6667 |   96.0  | 99.3333 |  100.0  |  100.0  |  100.0  |  100.0  |  100.0  |\n",
      "| Test Accuracy  |   82.5  | 81.6667 | 74.1667 | 75.8333 | 75.8333 | 75.8333 | 75.8333 | 75.8333 |\n",
      "+----------------+---------+---------+---------+---------+---------+---------+---------+---------+\n"
     ]
    }
   ],
   "source": [
    "# Kernel: Polynomial: (u\\'v)^3\n",
    "\n",
    "\n",
    "c_v = [0.001, 0.01, 0.1, 1, 10, 100, 1000, 10000]\n",
    "results = []\n",
    "\n",
    "for c in c_v:\n",
    "    results.append(svm_function(f'-t 1 -g 1 -r 0 -d 3 -c {c}'))\n",
    "\n",
    "table = PrettyTable()\n",
    "table.title ='Kernel: Polynomial -> (u\\'*v)^3'\n",
    "\n",
    "table.field_names = [\"C Value\"]+[str(c) for c in c_v]\n",
    "table.add_row([\"Train Accuracy\"] +[res[0] for res in results])\n",
    "table.add_row([\"Test Accuracy\"]+[res[1] for res in results])\n",
    "print(table)"
   ]
  },
  {
   "cell_type": "markdown",
   "metadata": {},
   "source": [
    "## Fixed C, different kernels"
   ]
  },
  {
   "cell_type": "code",
   "execution_count": 46,
   "metadata": {},
   "outputs": [
    {
     "name": "stdout",
     "output_type": "stream",
     "text": [
      "+--------------------------------------------------------------------------------------+\n",
      "|                                    Fixed C = 0.01                                    |\n",
      "+----------------+-------------------+-------------------+---------+---------+---------+\n",
      "|     Kernel     | polynomial(U'V)^3 | polynomial(U'V)^2 |  linear | sigmoid |   RBF   |\n",
      "+----------------+-------------------+-------------------+---------+---------+---------+\n",
      "| Train Accuracy |        96.0       |        86.0       | 82.6667 | 59.3333 | 53.3333 |\n",
      "| Test Accuracy  |      81.6667      |        77.5       | 84.1667 | 65.8333 | 58.3333 |\n",
      "+----------------+-------------------+-------------------+---------+---------+---------+\n"
     ]
    }
   ],
   "source": [
    "kernels = ['-t 1 -g 1 -r 0 -d 3 ', '-t 1 -g 1 -r 0 -d 2 ', '-t 0 ', '-t 3 -g 1 -r 0 ', '-t 2 -g 1 '] \n",
    "kernel_names = ['polynomial(U\\'V)^3', 'polynomial(U\\'V)^2', 'linear', 'sigmoid', 'RBF']\n",
    "results = []\n",
    "\n",
    "for kernel in kernels:\n",
    "    results.append(svm_function(f'{kernel}-c 0.01'))\n",
    "\n",
    "table = PrettyTable()\n",
    "table.title ='Fixed C = 0.01'\n",
    "\n",
    "table.field_names = [\"Kernel\"]+[kernel_name for kernel_name in kernel_names]\n",
    "table.add_row([\"Train Accuracy\"] +[res[0] for res in results])\n",
    "table.add_row([\"Test Accuracy\"]+[res[1] for res in results])\n",
    "print(table)"
   ]
  },
  {
   "cell_type": "code",
   "execution_count": 47,
   "metadata": {},
   "outputs": [
    {
     "name": "stdout",
     "output_type": "stream",
     "text": [
      "+--------------------------------------------------------------------------------------+\n",
      "|                                    Fixed C = 0.1                                     |\n",
      "+----------------+-------------------+-------------------+---------+---------+---------+\n",
      "|     Kernel     | polynomial(U'V)^3 | polynomial(U'V)^2 |  linear | sigmoid |   RBF   |\n",
      "+----------------+-------------------+-------------------+---------+---------+---------+\n",
      "| Train Accuracy |      99.3333      |        94.0       |   86.0  | 73.3333 | 53.3333 |\n",
      "| Test Accuracy  |      74.1667      |      78.3333      | 83.3333 | 76.6667 | 58.3333 |\n",
      "+----------------+-------------------+-------------------+---------+---------+---------+\n"
     ]
    }
   ],
   "source": [
    "kernels = ['-t 1 -g 1 -r 0 -d 3 ', '-t 1 -g 1 -r 0 -d 2 ', '-t 0 ', '-t 3 -g 1 -r 0 ', '-t 2 -g 1 '] \n",
    "kernel_names = ['polynomial(U\\'V)^3', 'polynomial(U\\'V)^2', 'linear', 'sigmoid', 'RBF']\n",
    "results = []\n",
    "\n",
    "for kernel in kernels:\n",
    "    results.append(svm_function(f'{kernel}-c 0.1'))\n",
    "\n",
    "table = PrettyTable()\n",
    "table.title ='Fixed C = 0.1'\n",
    "\n",
    "table.field_names = [\"Kernel\"]+[kernel_name for kernel_name in kernel_names]\n",
    "table.add_row([\"Train Accuracy\"] +[res[0] for res in results])\n",
    "table.add_row([\"Test Accuracy\"]+[res[1] for res in results])\n",
    "print(table)"
   ]
  },
  {
   "cell_type": "code",
   "execution_count": 48,
   "metadata": {},
   "outputs": [
    {
     "name": "stdout",
     "output_type": "stream",
     "text": [
      "+--------------------------------------------------------------------------------------+\n",
      "|                                     Fixed C = 1                                      |\n",
      "+----------------+-------------------+-------------------+---------+---------+---------+\n",
      "|     Kernel     | polynomial(U'V)^3 | polynomial(U'V)^2 |  linear | sigmoid |   RBF   |\n",
      "+----------------+-------------------+-------------------+---------+---------+---------+\n",
      "| Train Accuracy |       100.0       |      97.3333      | 86.6667 |   66.0  |   98.0  |\n",
      "| Test Accuracy  |      75.8333      |        77.5       |   85.0  | 65.8333 | 78.3333 |\n",
      "+----------------+-------------------+-------------------+---------+---------+---------+\n"
     ]
    }
   ],
   "source": [
    "kernels = ['-t 1 -g 1 -r 0 -d 3 ', '-t 1 -g 1 -r 0 -d 2 ', '-t 0 ', '-t 3 -g 1 -r 0 ', '-t 2 -g 1 '] \n",
    "kernel_names = ['polynomial(U\\'V)^3', 'polynomial(U\\'V)^2', 'linear', 'sigmoid', 'RBF']\n",
    "results = []\n",
    "\n",
    "for kernel in kernels:\n",
    "    results.append(svm_function(f'{kernel}-c 1'))\n",
    "\n",
    "table = PrettyTable()\n",
    "table.title ='Fixed C = 1'\n",
    "\n",
    "table.field_names = [\"Kernel\"]+[kernel_name for kernel_name in kernel_names]\n",
    "table.add_row([\"Train Accuracy\"] +[res[0] for res in results])\n",
    "table.add_row([\"Test Accuracy\"]+[res[1] for res in results])\n",
    "print(table)"
   ]
  },
  {
   "cell_type": "code",
   "execution_count": 49,
   "metadata": {},
   "outputs": [
    {
     "name": "stdout",
     "output_type": "stream",
     "text": [
      "+--------------------------------------------------------------------------------------+\n",
      "|                                     Fixed C = 10                                     |\n",
      "+----------------+-------------------+-------------------+---------+---------+---------+\n",
      "|     Kernel     | polynomial(U'V)^3 | polynomial(U'V)^2 |  linear | sigmoid |   RBF   |\n",
      "+----------------+-------------------+-------------------+---------+---------+---------+\n",
      "| Train Accuracy |       100.0       |      99.3333      | 88.6667 | 64.6667 |  100.0  |\n",
      "| Test Accuracy  |      75.8333      |        72.5       | 81.6667 | 64.1667 | 73.3333 |\n",
      "+----------------+-------------------+-------------------+---------+---------+---------+\n"
     ]
    }
   ],
   "source": [
    "kernels = ['-t 1 -g 1 -r 0 -d 3 ', '-t 1 -g 1 -r 0 -d 2 ', '-t 0 ', '-t 3 -g 1 -r 0 ', '-t 2 -g 1 '] \n",
    "kernel_names = ['polynomial(U\\'V)^3', 'polynomial(U\\'V)^2', 'linear', 'sigmoid', 'RBF']\n",
    "results = []\n",
    "\n",
    "for kernel in kernels:\n",
    "    results.append(svm_function(f'{kernel}-c 10'))\n",
    "\n",
    "table = PrettyTable()\n",
    "table.title ='Fixed C = 10'\n",
    "\n",
    "table.field_names = [\"Kernel\"]+[kernel_name for kernel_name in kernel_names]\n",
    "table.add_row([\"Train Accuracy\"] +[res[0] for res in results])\n",
    "table.add_row([\"Test Accuracy\"]+[res[1] for res in results])\n",
    "print(table)"
   ]
  },
  {
   "cell_type": "code",
   "execution_count": 50,
   "metadata": {},
   "outputs": [
    {
     "name": "stdout",
     "output_type": "stream",
     "text": [
      "+--------------------------------------------------------------------------------------+\n",
      "|                                    Fixed C = 100                                     |\n",
      "+----------------+-------------------+-------------------+---------+---------+---------+\n",
      "|     Kernel     | polynomial(U'V)^3 | polynomial(U'V)^2 |  linear | sigmoid |   RBF   |\n",
      "+----------------+-------------------+-------------------+---------+---------+---------+\n",
      "| Train Accuracy |       100.0       |       100.0       | 88.6667 |   64.0  |  100.0  |\n",
      "| Test Accuracy  |      75.8333      |      69.1667      | 81.6667 | 64.1667 | 73.3333 |\n",
      "+----------------+-------------------+-------------------+---------+---------+---------+\n"
     ]
    }
   ],
   "source": [
    "kernels = ['-t 1 -g 1 -r 0 -d 3 ', '-t 1 -g 1 -r 0 -d 2 ', '-t 0 ', '-t 3 -g 1 -r 0 ', '-t 2 -g 1 '] \n",
    "kernel_names = ['polynomial(U\\'V)^3', 'polynomial(U\\'V)^2', 'linear', 'sigmoid', 'RBF']\n",
    "results = []\n",
    "\n",
    "for kernel in kernels:\n",
    "    results.append(svm_function(f'{kernel}-c 100'))\n",
    "\n",
    "table = PrettyTable()\n",
    "table.title ='Fixed C = 100'\n",
    "\n",
    "table.field_names = [\"Kernel\"]+[kernel_name for kernel_name in kernel_names]\n",
    "table.add_row([\"Train Accuracy\"] +[res[0] for res in results])\n",
    "table.add_row([\"Test Accuracy\"]+[res[1] for res in results])\n",
    "print(table)"
   ]
  },
  {
   "cell_type": "code",
   "execution_count": 51,
   "metadata": {},
   "outputs": [
    {
     "name": "stdout",
     "output_type": "stream",
     "text": [
      "+--------------------------------------------------------------------------------------+\n",
      "|                                    Fixed C = 1000                                    |\n",
      "+----------------+-------------------+-------------------+---------+---------+---------+\n",
      "|     Kernel     | polynomial(U'V)^3 | polynomial(U'V)^2 |  linear | sigmoid |   RBF   |\n",
      "+----------------+-------------------+-------------------+---------+---------+---------+\n",
      "| Train Accuracy |       100.0       |       100.0       |   90.0  |   64.0  |  100.0  |\n",
      "| Test Accuracy  |      75.8333      |      69.1667      | 81.6667 | 64.1667 | 73.3333 |\n",
      "+----------------+-------------------+-------------------+---------+---------+---------+\n"
     ]
    }
   ],
   "source": [
    "kernels = ['-t 1 -g 1 -r 0 -d 3 ', '-t 1 -g 1 -r 0 -d 2 ', '-t 0 ', '-t 3 -g 1 -r 0 ', '-t 2 -g 1 '] \n",
    "kernel_names = ['polynomial(U\\'V)^3', 'polynomial(U\\'V)^2', 'linear', 'sigmoid', 'RBF']\n",
    "results = []\n",
    "\n",
    "for kernel in kernels:\n",
    "    results.append(svm_function(f'{kernel}-c 1000'))\n",
    "\n",
    "table = PrettyTable()\n",
    "table.title ='Fixed C = 1000'\n",
    "\n",
    "table.field_names = [\"Kernel\"]+[kernel_name for kernel_name in kernel_names]\n",
    "table.add_row([\"Train Accuracy\"] +[res[0] for res in results])\n",
    "table.add_row([\"Test Accuracy\"]+[res[1] for res in results])\n",
    "print(table)"
   ]
  },
  {
   "cell_type": "markdown",
   "metadata": {},
   "source": [
    "## Task 3 - 15 pts\n",
    "\n",
    "Please report how the number of support vectors changes as the value of $C$ increases (while all other parameters remain the same). Discuss whether your observations match the theory."
   ]
  },
  {
   "cell_type": "code",
   "execution_count": 52,
   "metadata": {},
   "outputs": [],
   "source": [
    "def get_number_of_sv(params):\n",
    "    global train_labels, train_matrix\n",
    "    m = svm_train(train_labels, train_matrix, params)\n",
    "    return m.get_nr_sv()"
   ]
  },
  {
   "cell_type": "code",
   "execution_count": 53,
   "metadata": {},
   "outputs": [
    {
     "name": "stdout",
     "output_type": "stream",
     "text": [
      "+-------------------------------------------------------------------------------+\n",
      "|                             Kernel -> Linear: u'*v                            |\n",
      "+---------------------------+-------+------+-----+----+----+-----+------+-------+\n",
      "|          C Value          | 0.001 | 0.01 | 0.1 | 1  | 10 | 100 | 1000 | 10000 |\n",
      "+---------------------------+-------+------+-----+----+----+-----+------+-------+\n",
      "| Number of Support Vectors |  140  | 118  |  74 | 58 | 51 |  50 |  49  |   49  |\n",
      "+---------------------------+-------+------+-----+----+----+-----+------+-------+\n"
     ]
    }
   ],
   "source": [
    "c_values = [0.001, 0.01, 0.1, 1, 10, 100, 1000, 10000]\n",
    "num_sv = []\n",
    "for c in c_values:\n",
    "    num_sv.append(get_number_of_sv(f'-t 0 -c {c}'))\n",
    "    \n",
    "table = PrettyTable()\n",
    "\n",
    "table.title ='Kernel -> Linear: u\\'*v'\n",
    "\n",
    "table.field_names = [\"C Value\"]+[str(c) for c in c_values]\n",
    "table.add_row([\"Number of Support Vectors\"]+num_sv)\n",
    "print(table)"
   ]
  },
  {
   "cell_type": "markdown",
   "metadata": {},
   "source": [
    "## Task 4 - 15 pts\n",
    "\n",
    "Please investigate the changes in the hyperplane when you remove one of the support vectors, vs., one data point that is not a support vector."
   ]
  },
  {
   "cell_type": "code",
   "execution_count": 18,
   "metadata": {},
   "outputs": [],
   "source": [
    "def get_weight(data,m):\n",
    "    \n",
    "    SV_coef = np.zeros(shape=(m.get_nr_sv()))\n",
    "    SVs = np.zeros(shape=(m.get_nr_sv(),data.shape[1]))\n",
    "\n",
    "    for index in range(0,m.get_nr_sv()):\n",
    "        SV_coef[index] = m.get_sv_coef()[index][0]\n",
    "        SVs[index] = data[m.get_sv_indices()[index]-1]\n",
    "        \n",
    "        \n",
    "    weight = np.dot(SV_coef.transpose(),SVs)\n",
    "\n",
    "    return weight, m.get_nr_sv() ,np.linalg.norm(weight)"
   ]
  },
  {
   "cell_type": "code",
   "execution_count": 19,
   "metadata": {},
   "outputs": [],
   "source": [
    "def delete_sv(data,labels,m,param):\n",
    "    new_set = np.delete(data,m.get_sv_indices()[0]-1,0)\n",
    "    new_labels = np.delete(labels,m.get_sv_indices()[0]-1,0)\n",
    "    m = svm_train(new_labels,new_set,param)\n",
    "    weight, Number_Of_Svs, w_norm = get_weight(new_set,m)\n",
    "   \n",
    "    return weight,Number_Of_Svs ,w_norm "
   ]
  },
  {
   "cell_type": "code",
   "execution_count": 20,
   "metadata": {},
   "outputs": [],
   "source": [
    "def delete_dp(data,labels,m,param):\n",
    "    comparison = np.arange(data.shape[0])+1\n",
    "    sv_indices = m.get_sv_indices()\n",
    "    \n",
    "    weight=0\n",
    "    Number_Of_Svs=0\n",
    "    w_norm = 0\n",
    "\n",
    "    for index in comparison:\n",
    "        if index not in sv_indices:\n",
    "            \n",
    "            new_set = np.delete(data,index-1,0)\n",
    "            new_labels = np.delete(labels,index-1,0)\n",
    "            m = svm_train(new_labels,new_set,param)\n",
    "            weight,Number_Of_Svs, w_norm= get_weight(new_set,m)\n",
    "            break\n",
    "            \n",
    "    return weight, Number_Of_Svs , w_norm"
   ]
  },
  {
   "cell_type": "code",
   "execution_count": 21,
   "metadata": {},
   "outputs": [
    {
     "name": "stdout",
     "output_type": "stream",
     "text": [
      "Weight: [-0.47637751  0.39813231  0.86713369  0.57366213  0.32304567  0.10008082\n",
      "  0.05139059 -0.95512925  0.07086555  0.00576303  0.24894908  1.82218655\n",
      "  0.5129991 ]\n",
      "Norm of the weight: 2.4791740955745105\n",
      "Number of Support Vectors: 58\n"
     ]
    }
   ],
   "source": [
    "param = '-t 0 -c 1'\n",
    "m = svm_train(train_labels,train_matrix,param)\n",
    "\n",
    "weight , Number_Of_Svs ,w_norm = get_weight(train_matrix,m)\n",
    "\n",
    "print(f\"Weight: {weight}\")\n",
    "print(f\"Norm of the weight: {w_norm}\")\n",
    "print(f\"Number of Support Vectors: {Number_Of_Svs}\")"
   ]
  },
  {
   "cell_type": "markdown",
   "metadata": {},
   "source": [
    "### Removing one data point that is not a support vector"
   ]
  },
  {
   "cell_type": "code",
   "execution_count": 22,
   "metadata": {},
   "outputs": [
    {
     "name": "stdout",
     "output_type": "stream",
     "text": [
      "Weight: [-0.47637751  0.39813231  0.86713369  0.57366213  0.32304567  0.10008082\n",
      "  0.05139059 -0.95512925  0.07086555  0.00576303  0.24894908  1.82218655\n",
      "  0.5129991 ]\n",
      "Norm of the weight: 2.4791740955745105\n",
      "Number of Support Vectors: 58\n"
     ]
    }
   ],
   "source": [
    "#removing one data point that is not a support vector.\n",
    "weight , Number_Of_Svs ,w_norm= delete_dp(train_matrix,train_labels,m,param)\n",
    "\n",
    "print(f\"Weight: {weight}\")\n",
    "print(f\"Norm of the weight: {w_norm}\")\n",
    "print(f\"Number of Support Vectors: {Number_Of_Svs}\")"
   ]
  },
  {
   "cell_type": "markdown",
   "metadata": {},
   "source": [
    "### Removing one of the support vectors"
   ]
  },
  {
   "cell_type": "code",
   "execution_count": 23,
   "metadata": {},
   "outputs": [
    {
     "name": "stdout",
     "output_type": "stream",
     "text": [
      "Weight: [-0.66183675  0.36149846  0.93849842  0.57538557  0.36977623  0.10905087\n",
      "  0.07963851 -0.98344676  0.02084041  0.09060237  0.23487472  1.9661612\n",
      "  0.51400789]\n",
      "Norm of the weight: 2.6639250107862242\n",
      "Number of Support Vectors: 56\n"
     ]
    }
   ],
   "source": [
    "#removing one of the support vectors\n",
    "weight , Number_Of_Svs,w_norm = delete_sv(train_matrix,train_labels,m,param)\n",
    "\n",
    "print(f\"Weight: {weight}\")\n",
    "print(f\"Norm of the weight: {w_norm}\")\n",
    "print(f\"Number of Support Vectors: {Number_Of_Svs}\")"
   ]
  },
  {
   "cell_type": "markdown",
   "metadata": {},
   "source": [
    "### Bonus Task - 10 pts\n",
    "\n",
    "Use Python and [CVXOPT](http://cvxopt.org) QP solver to implement the hard margin SVM. "
   ]
  },
  {
   "cell_type": "code",
   "execution_count": 24,
   "metadata": {},
   "outputs": [],
   "source": [
    "def get_accuracy(data,labels,w,b):\n",
    "    \n",
    "    result = np.sign(np.dot(data, w) +b).astype(int)\n",
    "    mul = np.multiply(result, labels)\n",
    "    acc = np.count_nonzero(mul == 1) / len(labels)\n",
    "    return acc*100"
   ]
  },
  {
   "cell_type": "code",
   "execution_count": 25,
   "metadata": {},
   "outputs": [
    {
     "name": "stdout",
     "output_type": "stream",
     "text": [
      "     pcost       dcost       gap    pres   dres\n",
      " 0:  3.2653e-01  1.9592e+00  6e+00  2e+00  4e+00\n",
      " 1:  1.5796e+00  8.5663e-01  7e-01  2e-16  1e-15\n",
      " 2:  1.0195e+00  9.9227e-01  3e-02  4e-16  9e-16\n",
      " 3:  1.0002e+00  9.9992e-01  3e-04  2e-16  2e-15\n",
      " 4:  1.0000e+00  1.0000e+00  3e-06  2e-16  1e-15\n",
      " 5:  1.0000e+00  1.0000e+00  3e-08  1e-16  8e-16\n",
      "Optimal solution found.\n",
      "weight: [ 1.00000001 -1.00000001]\n",
      "bias: -1.0000000134075104\n",
      "Train classification accuracy: 100.0\n"
     ]
    }
   ],
   "source": [
    "from cvxopt import matrix, solvers\n",
    "X = np.array([[0, 0], [2, 2],[2,0],[3,0]])\n",
    "y = np.array([-1, -1, 1, 1])\n",
    "\n",
    "sp_v_threshold = 1e-8\n",
    "n ,dim = X.shape\n",
    "# initialize variables\n",
    "Q = matrix(np.identity(dim + 1, dtype=np.float))\n",
    "p = matrix(np.zeros((dim + 1,), dtype=np.float))\n",
    "A = matrix(np.zeros((n, dim + 1), dtype=np.float))\n",
    "c = -matrix(np.ones((n,), dtype=np.float))\n",
    "Q[0, 0] = 0\n",
    "\n",
    "for i in range(n):\n",
    "    A[i, 0] = -y[i]* 1.\n",
    "    A[i, 1:] = -y[i]*X[i, :]* 1.\n",
    "\n",
    "    \n",
    "sol = solvers.qp(Q,p,A,c)\n",
    "\n",
    "w = np.zeros(dim,) # weight\n",
    "b = sol[\"x\"][0] # bias\n",
    "\n",
    "for i in range(1, dim + 1):\n",
    "     w[i - 1] = sol[\"x\"][i]\n",
    "    \n",
    "\n",
    "print(f\"weight: {w}\")\n",
    "print(f\"bias: {b}\")\n",
    "train_accuracy = get_accuracy(X,y,w,b)\n",
    "print(f\"Train classification accuracy: {train_accuracy}\")\n",
    "#print(y)\n",
    "#Sp_v = []\n",
    "\n",
    "\n",
    "#find the indexes of support vectors\n",
    "# for i in range(n):\n",
    "#     v = y[i] * (np.dot(X[i],w) + b)\n",
    "#     print(v)\n",
    "#     if v < (1 + sp_v_threshold):\n",
    "#         Sp_v.append(X[i])\n",
    "        \n",
    "# print(Sp_v)"
   ]
  },
  {
   "cell_type": "code",
   "execution_count": null,
   "metadata": {},
   "outputs": [],
   "source": []
  }
 ],
 "metadata": {
  "kernelspec": {
   "display_name": "Python 3",
   "language": "python",
   "name": "python3"
  },
  "language_info": {
   "codemirror_mode": {
    "name": "ipython",
    "version": 3
   },
   "file_extension": ".py",
   "mimetype": "text/x-python",
   "name": "python",
   "nbconvert_exporter": "python",
   "pygments_lexer": "ipython3",
   "version": "3.6.9"
  }
 },
 "nbformat": 4,
 "nbformat_minor": 4
}
