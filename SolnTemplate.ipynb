{
 "cells": [
  {
   "cell_type": "markdown",
   "metadata": {},
   "source": [
    "<h1><center>CMPE 462 - Project 2<br>Implementing an SVM Classifier<br>Due: May 18, 2020, 23:59</center></h1>"
   ]
  },
  {
   "cell_type": "markdown",
   "metadata": {},
   "source": [
    "* **Student ID1:**\n",
    "* **Student ID2:**\n",
    "* **Student ID3:**"
   ]
  },
  {
   "cell_type": "markdown",
   "metadata": {},
   "source": [
    "## Overview\n",
    "\n",
    "In this project, you are going to implement SVM. For this purpose, a data set (data.mat) is given to you. You can load the mat dataset into Python using the function `loadmat` in `Scipy.io`. When you load the data, you will obtain a dictionary object, where `X` stores the data matrix and `Y` stores the labels. You can use the first 150 samples for training and the rest for testing. In this project, you will use the software package [`LIBSVM`](http://www.csie.ntu.edu.tw/~cjlin/libsvm/) to implement SVM. Note that `LIBSVM` has a [`Python interface`](https://github.com/cjlin1/libsvm/tree/master/python), so you can call the SVM functions in Python. "
   ]
  },
  {
   "cell_type": "code",
   "execution_count": 1,
   "metadata": {},
   "outputs": [
    {
     "name": "stdout",
     "output_type": "stream",
     "text": [
      "Requirement already satisfied: libsvm in c:\\users\\abdullah\\appdata\\local\\programs\\python\\python38-32\\lib\\site-packages (3.23.0.4)\n"
     ]
    }
   ],
   "source": [
    "!pip3 install libsvm\n",
    "import scipy.io as spio\n",
    "from libsvm.svmutil import *\n",
    "\n",
    "dic = spio.loadmat(\"data.mat\")\n",
    "\n",
    "train_matrix, train_labels = dic['X'][:150], dic['Y'][:150]\n",
    "test_matrix, test_labels = dic['X'][150:], dic['Y'][150:]\n",
    "\n",
    "train_labels = train_labels.reshape((train_labels.shape[0],))\n",
    "test_labels = test_labels.reshape((test_labels.shape[0],))\n"
   ]
  },
  {
   "cell_type": "markdown",
   "metadata": {},
   "source": [
    "## Task 1 - 30 pts\n",
    "\n",
    "Train a hard margin linear SVM and report both train and test classification accuracy."
   ]
  },
  {
   "cell_type": "code",
   "execution_count": 2,
   "metadata": {},
   "outputs": [
    {
     "name": "stdout",
     "output_type": "stream",
     "text": [
      "Accuracy = 74.6667% (112/150) (classification)\n",
      "Train classification accuracy: 74.66666666666667\n"
     ]
    }
   ],
   "source": [
    "m = svm_train(train_labels,train_matrix,'-t 0 -c 100000000')\n",
    "p_label, p_acc, p_val = svm_predict(train_labels, train_matrix, m)\n",
    "print(\"Train classification accuracy: \" + str(p_acc[0]))"
   ]
  },
  {
   "cell_type": "code",
   "execution_count": 3,
   "metadata": {},
   "outputs": [
    {
     "name": "stdout",
     "output_type": "stream",
     "text": [
      "Accuracy = 77.5% (93/120) (classification)\n",
      "Test classification accuracy: 77.5\n"
     ]
    }
   ],
   "source": [
    "p_label, p_acc, p_val = svm_predict(test_labels, test_matrix, m)\n",
    "print(\"Test classification accuracy: \" + str(p_acc[0]))"
   ]
  },
  {
   "cell_type": "markdown",
   "metadata": {},
   "source": [
    "## Task 2 - 40 pts\n",
    "\n",
    "Train soft margin SVM for different values of the parameter $C$, and with different kernel functions. Systematically report your results. For instance, report the performances of different kernels for a fixed $C$, then report the performance for different $C$ values for a fixed kernel, and so on."
   ]
  },
  {
   "cell_type": "code",
   "execution_count": 4,
   "metadata": {},
   "outputs": [
    {
     "name": "stdout",
     "output_type": "stream",
     "text": [
      "Accuracy = 99.3333% (149/150) (classification)\n",
      "Train classification accuracy: 99.33333333333333\n",
      "Accuracy = 78.3333% (94/120) (classification)\n",
      "Test classification accuracy: 78.33333333333333\n",
      "Accuracy = 84% (126/150) (classification)\n",
      "Train classification accuracy: 84.0\n",
      "Accuracy = 84.1667% (101/120) (classification)\n",
      "Test classification accuracy: 84.16666666666667\n",
      "Accuracy = 86.6667% (130/150) (classification)\n",
      "Train classification accuracy: 86.66666666666667\n",
      "Accuracy = 84.1667% (101/120) (classification)\n",
      "Test classification accuracy: 84.16666666666667\n",
      "Accuracy = 96% (144/150) (classification)\n",
      "Train classification accuracy: 96.0\n",
      "Accuracy = 78.3333% (94/120) (classification)\n",
      "Test classification accuracy: 78.33333333333333\n"
     ]
    }
   ],
   "source": [
    "#radial basis function: exp(-gamma*|u-v|^2)\n",
    "m = svm_train(train_labels,train_matrix,'-t 2 -g 0.1 -c 100')\n",
    "p_label, p_acc, p_val = svm_predict(train_labels, train_matrix, m)\n",
    "print(\"Train classification accuracy: \" + str(p_acc[0]))\n",
    "p_label, p_acc, p_val = svm_predict(test_labels, test_matrix, m)\n",
    "print(\"Test classification accuracy: \" + str(p_acc[0]))\n",
    "\n",
    "m = svm_train(train_labels,train_matrix,'-t 2 -g 0.1 -c 0.1')\n",
    "p_label, p_acc, p_val = svm_predict(train_labels, train_matrix, m)\n",
    "print(\"Train classification accuracy: \" + str(p_acc[0]))\n",
    "p_label, p_acc, p_val = svm_predict(test_labels, test_matrix, m)\n",
    "print(\"Test classification accuracy: \" + str(p_acc[0]))\n",
    "\n",
    "m = svm_train(train_labels,train_matrix,'-t 2 -g 0.1 -c 1')\n",
    "p_label, p_acc, p_val = svm_predict(train_labels, train_matrix, m)\n",
    "print(\"Train classification accuracy: \" + str(p_acc[0]))\n",
    "p_label, p_acc, p_val = svm_predict(test_labels, test_matrix, m)\n",
    "print(\"Test classification accuracy: \" + str(p_acc[0]))\n",
    "\n",
    "m = svm_train(train_labels,train_matrix,'-t 2 -g 0.1 -c 10')\n",
    "p_label, p_acc, p_val = svm_predict(train_labels, train_matrix, m)\n",
    "print(\"Train classification accuracy: \" + str(p_acc[0]))\n",
    "p_label, p_acc, p_val = svm_predict(test_labels, test_matrix, m)\n",
    "print(\"Test classification accuracy: \" + str(p_acc[0]))\n",
    "\n",
    "\n"
   ]
  },
  {
   "cell_type": "code",
   "execution_count": 5,
   "metadata": {},
   "outputs": [
    {
     "name": "stdout",
     "output_type": "stream",
     "text": [
      "Accuracy = 99.3333% (149/150) (classification)\n",
      "Train classification accuracy: 99.33333333333333\n",
      "Accuracy = 72.5% (87/120) (classification)\n",
      "Test classification accuracy: 72.5\n",
      "Accuracy = 97.3333% (146/150) (classification)\n",
      "Train classification accuracy: 97.33333333333334\n",
      "Accuracy = 77.5% (93/120) (classification)\n",
      "Test classification accuracy: 77.5\n",
      "Accuracy = 100% (150/150) (classification)\n",
      "Train classification accuracy: 100.0\n",
      "Accuracy = 69.1667% (83/120) (classification)\n",
      "Test classification accuracy: 69.16666666666667\n",
      "Accuracy = 94% (141/150) (classification)\n",
      "Train classification accuracy: 94.0\n",
      "Accuracy = 78.3333% (94/120) (classification)\n",
      "Test classification accuracy: 78.33333333333333\n"
     ]
    }
   ],
   "source": [
    "#polynomial: (gamma*u'*v + coef0)^2\n",
    "\n",
    "m = svm_train(train_labels,train_matrix,'-t 1 -g 1 -r 0 -d 2 -c 10')\n",
    "p_label, p_acc, p_val = svm_predict(train_labels, train_matrix, m)\n",
    "print(\"Train classification accuracy: \" + str(p_acc[0]))\n",
    "p_label, p_acc, p_val = svm_predict(test_labels, test_matrix, m)\n",
    "print(\"Test classification accuracy: \" + str(p_acc[0]))\n",
    "\n",
    "m = svm_train(train_labels,train_matrix,'-t 1 -g 1 -r 0 -d 2 -c 1')\n",
    "p_label, p_acc, p_val = svm_predict(train_labels, train_matrix, m)\n",
    "print(\"Train classification accuracy: \" + str(p_acc[0]))\n",
    "p_label, p_acc, p_val = svm_predict(test_labels, test_matrix, m)\n",
    "print(\"Test classification accuracy: \" + str(p_acc[0]))\n",
    "\n",
    "m = svm_train(train_labels,train_matrix,'-t 1 -g 1 -r 0 -d 2 -c 100')\n",
    "p_label, p_acc, p_val = svm_predict(train_labels, train_matrix, m)\n",
    "print(\"Train classification accuracy: \" + str(p_acc[0]))\n",
    "p_label, p_acc, p_val = svm_predict(test_labels, test_matrix, m)\n",
    "print(\"Test classification accuracy: \" + str(p_acc[0]))\n",
    "\n",
    "m = svm_train(train_labels,train_matrix,'-t 1 -g 1 -r 0 -d 2 -c 0.1')\n",
    "p_label, p_acc, p_val = svm_predict(train_labels, train_matrix, m)\n",
    "print(\"Train classification accuracy: \" + str(p_acc[0]))\n",
    "p_label, p_acc, p_val = svm_predict(test_labels, test_matrix, m)\n",
    "print(\"Test classification accuracy: \" + str(p_acc[0]))"
   ]
  },
  {
   "cell_type": "code",
   "execution_count": 6,
   "metadata": {},
   "outputs": [
    {
     "name": "stdout",
     "output_type": "stream",
     "text": [
      "Accuracy = 64.6667% (97/150) (classification)\n",
      "Train classification accuracy: 64.66666666666666\n",
      "Accuracy = 64.1667% (77/120) (classification)\n",
      "Test classification accuracy: 64.16666666666667\n",
      "Accuracy = 66% (99/150) (classification)\n",
      "Train classification accuracy: 66.0\n",
      "Accuracy = 65.8333% (79/120) (classification)\n",
      "Test classification accuracy: 65.83333333333333\n",
      "Accuracy = 64% (96/150) (classification)\n",
      "Train classification accuracy: 64.0\n",
      "Accuracy = 64.1667% (77/120) (classification)\n",
      "Test classification accuracy: 64.16666666666667\n",
      "Accuracy = 73.3333% (110/150) (classification)\n",
      "Train classification accuracy: 73.33333333333333\n",
      "Accuracy = 76.6667% (92/120) (classification)\n",
      "Test classification accuracy: 76.66666666666667\n"
     ]
    }
   ],
   "source": [
    "#sigmoid: tanh(gamma*u'*v + coef0)\n",
    "\n",
    "m = svm_train(train_labels,train_matrix,'-t 3 -g 1 -r 0 -c 10')\n",
    "p_label, p_acc, p_val = svm_predict(train_labels, train_matrix, m)\n",
    "print(\"Train classification accuracy: \" + str(p_acc[0]))\n",
    "p_label, p_acc, p_val = svm_predict(test_labels, test_matrix, m)\n",
    "print(\"Test classification accuracy: \" + str(p_acc[0]))\n",
    "\n",
    "\n",
    "\n",
    "m = svm_train(train_labels,train_matrix,'-t 3 -g 1 -r 0 -c 1')\n",
    "p_label, p_acc, p_val = svm_predict(train_labels, train_matrix, m)\n",
    "print(\"Train classification accuracy: \" + str(p_acc[0]))\n",
    "p_label, p_acc, p_val = svm_predict(test_labels, test_matrix, m)\n",
    "print(\"Test classification accuracy: \" + str(p_acc[0]))\n",
    "\n",
    "\n",
    "\n",
    "m = svm_train(train_labels,train_matrix,'-t 3 -g 1 -r 0 -c 100')\n",
    "p_label, p_acc, p_val = svm_predict(train_labels, train_matrix, m)\n",
    "print(\"Train classification accuracy: \" + str(p_acc[0]))\n",
    "p_label, p_acc, p_val = svm_predict(test_labels, test_matrix, m)\n",
    "print(\"Test classification accuracy: \" + str(p_acc[0]))\n",
    "\n",
    "\n",
    "m = svm_train(train_labels,train_matrix,'-t 3 -g 1 -r 0 -c 0.1')\n",
    "p_label, p_acc, p_val = svm_predict(train_labels, train_matrix, m)\n",
    "print(\"Train classification accuracy: \" + str(p_acc[0]))\n",
    "p_label, p_acc, p_val = svm_predict(test_labels, test_matrix, m)\n",
    "print(\"Test classification accuracy: \" + str(p_acc[0]))"
   ]
  },
  {
   "cell_type": "code",
   "execution_count": 7,
   "metadata": {},
   "outputs": [
    {
     "name": "stdout",
     "output_type": "stream",
     "text": [
      "Accuracy = 88.6667% (133/150) (classification)\n",
      "Train classification accuracy: 88.66666666666667\n",
      "Accuracy = 81.6667% (98/120) (classification)\n",
      "Test classification accuracy: 81.66666666666667\n",
      "Accuracy = 86.6667% (130/150) (classification)\n",
      "Train classification accuracy: 86.66666666666667\n",
      "Accuracy = 85% (102/120) (classification)\n",
      "Test classification accuracy: 85.0\n",
      "Accuracy = 88.6667% (133/150) (classification)\n",
      "Train classification accuracy: 88.66666666666667\n",
      "Accuracy = 81.6667% (98/120) (classification)\n",
      "Test classification accuracy: 81.66666666666667\n",
      "Accuracy = 86% (129/150) (classification)\n",
      "Train classification accuracy: 86.0\n",
      "Accuracy = 83.3333% (100/120) (classification)\n",
      "Test classification accuracy: 83.33333333333334\n"
     ]
    }
   ],
   "source": [
    "#linear: u'*v\n",
    "m = svm_train(train_labels,train_matrix,'-t 0 -c 10')\n",
    "p_label, p_acc, p_val = svm_predict(train_labels, train_matrix, m)\n",
    "print(\"Train classification accuracy: \" + str(p_acc[0]))\n",
    "p_label, p_acc, p_val = svm_predict(test_labels, test_matrix, m)\n",
    "print(\"Test classification accuracy: \" + str(p_acc[0]))\n",
    "\n",
    "\n",
    "m = svm_train(train_labels,train_matrix,'-t 0 -c 1')\n",
    "p_label, p_acc, p_val = svm_predict(train_labels, train_matrix, m)\n",
    "print(\"Train classification accuracy: \" + str(p_acc[0]))\n",
    "p_label, p_acc, p_val = svm_predict(test_labels, test_matrix, m)\n",
    "print(\"Test classification accuracy: \" + str(p_acc[0]))\n",
    "\n",
    "\n",
    "m = svm_train(train_labels,train_matrix,'-t 0 -c 100')\n",
    "p_label, p_acc, p_val = svm_predict(train_labels, train_matrix, m)\n",
    "print(\"Train classification accuracy: \" + str(p_acc[0]))\n",
    "p_label, p_acc, p_val = svm_predict(test_labels, test_matrix, m)\n",
    "print(\"Test classification accuracy: \" + str(p_acc[0]))\n",
    "\n",
    "\n",
    "m = svm_train(train_labels,train_matrix,'-t 0 -c 0.1')\n",
    "p_label, p_acc, p_val = svm_predict(train_labels, train_matrix, m)\n",
    "print(\"Train classification accuracy: \" + str(p_acc[0]))\n",
    "p_label, p_acc, p_val = svm_predict(test_labels, test_matrix, m)\n",
    "print(\"Test classification accuracy: \" + str(p_acc[0]))"
   ]
  },
  {
   "cell_type": "code",
   "execution_count": 8,
   "metadata": {},
   "outputs": [
    {
     "name": "stdout",
     "output_type": "stream",
     "text": [
      "Accuracy = 100% (150/150) (classification)\n",
      "Train classification accuracy: 100.0\n",
      "Accuracy = 75.8333% (91/120) (classification)\n",
      "Test classification accuracy: 75.83333333333333\n",
      "Accuracy = 100% (150/150) (classification)\n",
      "Train classification accuracy: 100.0\n",
      "Accuracy = 75.8333% (91/120) (classification)\n",
      "Test classification accuracy: 75.83333333333333\n",
      "Accuracy = 100% (150/150) (classification)\n",
      "Train classification accuracy: 100.0\n",
      "Accuracy = 75.8333% (91/120) (classification)\n",
      "Test classification accuracy: 75.83333333333333\n",
      "Accuracy = 99.3333% (149/150) (classification)\n",
      "Train classification accuracy: 99.33333333333333\n",
      "Accuracy = 74.1667% (89/120) (classification)\n",
      "Test classification accuracy: 74.16666666666667\n"
     ]
    }
   ],
   "source": [
    "#polynomial: (gamma*u'*v + coef0)^3\n",
    "\n",
    "m = svm_train(train_labels,train_matrix,'-t 1 -g 1 -r 0 -d 3 -c 10')\n",
    "p_label, p_acc, p_val = svm_predict(train_labels, train_matrix, m)\n",
    "print(\"Train classification accuracy: \" + str(p_acc[0]))\n",
    "p_label, p_acc, p_val = svm_predict(test_labels, test_matrix, m)\n",
    "print(\"Test classification accuracy: \" + str(p_acc[0]))\n",
    "\n",
    "m = svm_train(train_labels,train_matrix,'-t 1 -g 1 -r 0 -d 3 -c 1')\n",
    "p_label, p_acc, p_val = svm_predict(train_labels, train_matrix, m)\n",
    "print(\"Train classification accuracy: \" + str(p_acc[0]))\n",
    "p_label, p_acc, p_val = svm_predict(test_labels, test_matrix, m)\n",
    "print(\"Test classification accuracy: \" + str(p_acc[0]))\n",
    "\n",
    "m = svm_train(train_labels,train_matrix,'-t 1 -g 1 -r 0 -d 3 -c 100')\n",
    "p_label, p_acc, p_val = svm_predict(train_labels, train_matrix, m)\n",
    "print(\"Train classification accuracy: \" + str(p_acc[0]))\n",
    "p_label, p_acc, p_val = svm_predict(test_labels, test_matrix, m)\n",
    "print(\"Test classification accuracy: \" + str(p_acc[0]))\n",
    "\n",
    "m = svm_train(train_labels,train_matrix,'-t 1 -g 1 -r 0 -d 3 -c 0.1')\n",
    "p_label, p_acc, p_val = svm_predict(train_labels, train_matrix, m)\n",
    "print(\"Train classification accuracy: \" + str(p_acc[0]))\n",
    "p_label, p_acc, p_val = svm_predict(test_labels, test_matrix, m)\n",
    "print(\"Test classification accuracy: \" + str(p_acc[0]))"
   ]
  },
  {
   "cell_type": "markdown",
   "metadata": {},
   "source": [
    "## Task 3 - 15 pts\n",
    "\n",
    "Please report how the number of support vectors changes as the value of $C$ increases (while all other parameters remain the same). Discuss whether your observations match the theory."
   ]
  },
  {
   "cell_type": "code",
   "execution_count": null,
   "metadata": {},
   "outputs": [],
   "source": []
  },
  {
   "cell_type": "markdown",
   "metadata": {},
   "source": [
    "## Task 4 - 15 pts\n",
    "\n",
    "Please investigate the changes in the hyperplane when you remove one of the support vectors, vs., one data point that is not a support vector."
   ]
  },
  {
   "cell_type": "code",
   "execution_count": 57,
   "metadata": {},
   "outputs": [
    {
     "name": "stdout",
     "output_type": "stream",
     "text": [
      "Requirement already satisfied: utils in c:\\users\\abdullah\\anaconda3\\lib\\site-packages (1.0.1)\n"
     ]
    },
    {
     "ename": "ModuleNotFoundError",
     "evalue": "No module named 'utils.visualize_tools'",
     "output_type": "error",
     "traceback": [
      "\u001b[1;31m---------------------------------------------------------------------------\u001b[0m",
      "\u001b[1;31mModuleNotFoundError\u001b[0m                       Traceback (most recent call last)",
      "\u001b[1;32m<ipython-input-57-1094de0272bd>\u001b[0m in \u001b[0;36m<module>\u001b[1;34m\u001b[0m\n\u001b[0;32m      1\u001b[0m \u001b[0mget_ipython\u001b[0m\u001b[1;33m(\u001b[0m\u001b[1;33m)\u001b[0m\u001b[1;33m.\u001b[0m\u001b[0msystem\u001b[0m\u001b[1;33m(\u001b[0m\u001b[1;34m'pip install utils'\u001b[0m\u001b[1;33m)\u001b[0m\u001b[1;33m\u001b[0m\u001b[1;33m\u001b[0m\u001b[0m\n\u001b[1;32m----> 2\u001b[1;33m \u001b[1;32mfrom\u001b[0m \u001b[0mutils\u001b[0m\u001b[1;33m.\u001b[0m\u001b[0mvisualize_tools\u001b[0m \u001b[1;32mimport\u001b[0m \u001b[0mplot_Xy\u001b[0m\u001b[1;33m\u001b[0m\u001b[1;33m\u001b[0m\u001b[0m\n\u001b[0m\u001b[0;32m      3\u001b[0m \u001b[0mplot_Xy\u001b[0m\u001b[1;33m(\u001b[0m\u001b[0mX\u001b[0m\u001b[1;33m,\u001b[0m \u001b[0my\u001b[0m\u001b[1;33m,\u001b[0m \u001b[0mplt\u001b[0m\u001b[1;33m)\u001b[0m\u001b[1;33m\u001b[0m\u001b[1;33m\u001b[0m\u001b[0m\n",
      "\u001b[1;31mModuleNotFoundError\u001b[0m: No module named 'utils.visualize_tools'"
     ]
    }
   ],
   "source": [
    "!pip install utils\n",
    "from utils.visualize_tools import plot_Xy\n",
    "plot_Xy(X, y, plt)"
   ]
  },
  {
   "cell_type": "markdown",
   "metadata": {},
   "source": [
    "### Bonus Task - 10 pts\n",
    "\n",
    "Use Python and [CVXOPT](http://cvxopt.org) QP solver to implement the hard margin SVM. "
   ]
  },
  {
   "cell_type": "code",
   "execution_count": 89,
   "metadata": {},
   "outputs": [
    {
     "name": "stdout",
     "output_type": "stream",
     "text": [
      "     pcost       dcost       gap    pres   dres\n",
      " 0:  4.7152e-01 -1.1644e+02  7e+02  2e+00  4e+02\n",
      " 1:  1.1054e-01 -1.3730e+02  2e+02  3e-01  7e+01\n",
      " 2:  2.6576e-01 -7.6572e+00  8e+00  2e-03  4e-01\n",
      " 3:  6.8612e-02 -9.9583e-01  1e+00  2e-04  4e-02\n",
      " 4:  7.2200e-03 -1.6820e-01  2e-01  2e-05  4e-03\n",
      " 5:  2.8517e-05 -6.3790e-03  6e-03  2e-07  4e-05\n",
      " 6:  3.0692e-09 -6.5191e-05  7e-05  2e-09  4e-07\n",
      " 7:  3.0692e-13 -6.5188e-07  7e-07  2e-11  4e-09\n",
      " 8:  3.0692e-17 -6.5188e-09  7e-09  2e-13  4e-11\n",
      "Optimal solution found.\n",
      "[ 6.93e-02]\n",
      "[-2.00e-10]\n",
      "[-3.24e-09]\n",
      "[-2.18e-09]\n",
      "[-3.01e-10]\n",
      "[-1.20e-10]\n",
      "[-2.65e-10]\n",
      "[-1.68e-09]\n",
      "[ 1.32e-09]\n",
      "[-3.36e-09]\n",
      "[-1.11e-09]\n",
      "[-1.88e-09]\n",
      "[-1.91e-09]\n",
      "[-4.65e-09]\n",
      "\n"
     ]
    }
   ],
   "source": [
    "# !pip install cvxopt --no-binary cvxopt\n",
    "# !conda install -c conda-forge cvxopt\n",
    "from cvxopt import matrix, solvers\n",
    "import numpy as np\n",
    "\n",
    "n = train_matrix.shape[0]\n",
    "m = train_matrix.shape[1]\n",
    "train_labels = train_labels.reshape((train_labels.shape[0],1))\n",
    "Q = np.identity(m+1)\n",
    "Q[0,0] = 0\n",
    "p = np.zeros(m+1)\n",
    "xTy = np.multiply(train_matrix, train_labels)\n",
    "c = np.ones((train_matrix.shape[0],1))\n",
    "A = np.concatenate((train_labels, xTy) , axis=1)\n",
    "\n",
    "Q = matrix(Q)\n",
    "A = matrix(A)\n",
    "c = matrix(c)\n",
    "p = matrix(p)\n",
    "\n",
    "sol=solvers.qp(Q, p, A, c)\n",
    "print(sol['x'])"
   ]
  },
  {
   "cell_type": "code",
   "execution_count": 99,
   "metadata": {},
   "outputs": [
    {
     "ename": "ValueError",
     "evalue": "incomplete format",
     "output_type": "error",
     "traceback": [
      "\u001b[1;31m---------------------------------------------------------------------------\u001b[0m",
      "\u001b[1;31mValueError\u001b[0m                                Traceback (most recent call last)",
      "\u001b[1;32m<ipython-input-99-2900461c1547>\u001b[0m in \u001b[0;36m<module>\u001b[1;34m\u001b[0m\n\u001b[0;32m      8\u001b[0m     \u001b[1;32mif\u001b[0m\u001b[1;33m(\u001b[0m\u001b[0mnp\u001b[0m\u001b[1;33m.\u001b[0m\u001b[0msign\u001b[0m\u001b[1;33m(\u001b[0m\u001b[0mv\u001b[0m\u001b[1;33m)\u001b[0m \u001b[1;33m==\u001b[0m \u001b[0mtest_labels\u001b[0m\u001b[1;33m[\u001b[0m\u001b[0mi\u001b[0m\u001b[1;33m]\u001b[0m\u001b[1;33m)\u001b[0m\u001b[1;33m:\u001b[0m\u001b[1;33m\u001b[0m\u001b[1;33m\u001b[0m\u001b[0m\n\u001b[0;32m      9\u001b[0m         \u001b[0mcounter\u001b[0m \u001b[1;33m+=\u001b[0m \u001b[1;36m1\u001b[0m\u001b[1;33m\u001b[0m\u001b[1;33m\u001b[0m\u001b[0m\n\u001b[1;32m---> 10\u001b[1;33m \u001b[0mprint\u001b[0m\u001b[1;33m(\u001b[0m\u001b[1;34m'%f %'\u001b[0m \u001b[1;33m%\u001b[0m \u001b[1;33m(\u001b[0m\u001b[0mcounter\u001b[0m\u001b[1;33m/\u001b[0m\u001b[0mn\u001b[0m\u001b[1;33m)\u001b[0m\u001b[1;33m)\u001b[0m\u001b[1;33m\u001b[0m\u001b[1;33m\u001b[0m\u001b[0m\n\u001b[0m",
      "\u001b[1;31mValueError\u001b[0m: incomplete format"
     ]
    }
   ],
   "source": [
    "weight = sol[\"x\"][1:]\n",
    "bias = sol[\"x\"][0]\n",
    "# print(weight, bias)\n",
    "counter = 0\n",
    "n = test_labels.shape[0]\n",
    "for i in range(n):\n",
    "    v = test_labels[i] * (np.dot(np.array(weight).reshape((1,13)), test_matrix[i]) + bias)\n",
    "    if(np.sign(v) == test_labels[i]):\n",
    "        counter += 1\n",
    "print('%f %' % (counter/n))"
   ]
  },
  {
   "cell_type": "code",
   "execution_count": null,
   "metadata": {},
   "outputs": [],
   "source": []
  }
 ],
 "metadata": {
  "kernelspec": {
   "display_name": "Python 3",
   "language": "python",
   "name": "python3"
  },
  "language_info": {
   "codemirror_mode": {
    "name": "ipython",
    "version": 3
   },
   "file_extension": ".py",
   "mimetype": "text/x-python",
   "name": "python",
   "nbconvert_exporter": "python",
   "pygments_lexer": "ipython3",
   "version": "3.7.1"
  }
 },
 "nbformat": 4,
 "nbformat_minor": 4
}
